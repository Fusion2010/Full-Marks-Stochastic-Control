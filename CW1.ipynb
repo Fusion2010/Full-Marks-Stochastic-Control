{
 "cells": [
  {
   "cell_type": "code",
   "execution_count": 3,
   "metadata": {},
   "outputs": [],
   "source": [
    "import numpy\n",
    "import numpy as np\n",
    "import scipy as sp\n",
    "import matplotlib as mpt\n",
    "# import tensorflow as tf\n",
    "\n",
    "import torch"
   ]
  },
  {
   "attachments": {},
   "cell_type": "markdown",
   "metadata": {},
   "source": [
    "#scipy.integrate.ode\n"
   ]
  },
  {
   "cell_type": "code",
   "execution_count": 121,
   "metadata": {},
   "outputs": [],
   "source": [
    "D = torch.tensor([\n",
    "    [0.5, 0.5],\n",
    "    [0.75, 0.75]\n",
    "]).float()\n",
    "\n",
    "H = torch.tensor([\n",
    "    [0.5, 0.5],\n",
    "    [0.75, 0.75]\n",
    "]).float()\n",
    "\n",
    "M = torch.tensor([\n",
    "    [0.5, 0.5],\n",
    "    [0.75, 0.75]\n",
    "]).float()\n",
    "\n",
    "S_t=torch.tensor([\n",
    "    [0.5, 0.5],\n",
    "    [0.75, 0.75]\n",
    "]).float()\n",
    "\n",
    "x=torch.tensor([\n",
    "    [0.5],\n",
    "    [0.75]\n",
    "]).float()\n",
    "\n",
    "#D,C,R are given matrixs with 2*2 dimensions\n",
    "#x is 2*1 dimensions\n",
    "#here we assume H is a 2*2 matrix\n",
    "\n",
    "# given x, t, funtion S S(t);     M,\n",
    "\n",
    "\n",
    "# S_t=S(t)\n",
    "#Assume M is a 2*2 matrix\n",
    "\n",
    "def MC_control(x, t):\n",
    "\n",
    "    return -D.mm(M.t()).mm(S_t).mm(x)\n",
    "\n",
    "\n",
    "def drift_ode(H, M, alpha, x, delta_t): \n",
    "    \n",
    "    return (torch.matmul(H, x) + torch.matmul(M, alpha)) * delta_t\n",
    "\n",
    "\n",
    "def X_simu(H, M, sigma, T, x_init = x, delta_t = 0.001):\n",
    "    # Initialization\n",
    "    # TODO: X can't be as an input currently\n",
    "    X = torch.tensor([[0.5], [0.75]]).float()\n",
    "    n_steps = T / delta_t\n",
    "    t = 0\n",
    "    a = MC_control(X, t)\n",
    "    \n",
    "    # Loop\n",
    "    while t <= T: \n",
    "        BM = torch.normal(mean = 0, std = 1, size = (2, 1)) * delta_t\n",
    "        diffusion = sigma * BM\n",
    "        X += drift_ode(H, M, alpha, X, delta_t) + diffusion\n",
    "        t += delta_t\n",
    "        a = MC_control(X, t)\n",
    "    \n",
    "    return X\n",
    "\n",
    "\n",
    "# print(MC_control(x,0))"
   ]
  },
  {
   "cell_type": "code",
   "execution_count": 128,
   "metadata": {},
   "outputs": [
    {
     "data": {
      "text/plain": [
       "tensor([[3.7361],\n",
       "        [5.6099]])"
      ]
     },
     "execution_count": 128,
     "metadata": {},
     "output_type": "execute_result"
    }
   ],
   "source": [
    "sigma = torch.tensor([0.5])\n",
    "\n",
    "# drift_ode(H, M, a, x, 0.001)\n",
    "X_simu(H, M, sigma, 1, x_init = x, delta_t = 0.001)"
   ]
  },
  {
   "cell_type": "code",
   "execution_count": 115,
   "metadata": {},
   "outputs": [
    {
     "data": {
      "text/plain": [
       "tensor([[3.7674],\n",
       "        [5.6207]])"
      ]
     },
     "execution_count": 115,
     "metadata": {},
     "output_type": "execute_result"
    }
   ],
   "source": [
    "X"
   ]
  },
  {
   "cell_type": "code",
   "execution_count": null,
   "metadata": {},
   "outputs": [],
   "source": []
  }
 ],
 "metadata": {
  "kernelspec": {
   "display_name": "Python 3",
   "language": "python",
   "name": "python3"
  },
  "language_info": {
   "codemirror_mode": {
    "name": "ipython",
    "version": 3
   },
   "file_extension": ".py",
   "mimetype": "text/x-python",
   "name": "python",
   "nbconvert_exporter": "python",
   "pygments_lexer": "ipython3",
   "version": "3.10.9"
  },
  "orig_nbformat": 4,
  "vscode": {
   "interpreter": {
    "hash": "69de0a17ae53a116224c6de2d70625810490e4c064147f54432274535aeee995"
   }
  }
 },
 "nbformat": 4,
 "nbformat_minor": 2
}
